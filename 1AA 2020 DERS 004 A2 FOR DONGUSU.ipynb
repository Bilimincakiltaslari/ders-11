{
 "cells": [
  {
   "cell_type": "code",
   "execution_count": null,
   "metadata": {},
   "outputs": [],
   "source": [
    "for i in range(1,11): # for döngü komutudur range değer aralığıdır.\n",
    "    print(i)        # range(1,11) i harfine komutu 1 den 10 kadar\n",
    "                    # değer verdirir."
   ]
  },
  {
   "cell_type": "code",
   "execution_count": null,
   "metadata": {},
   "outputs": [],
   "source": [
    "for i in range(1,4):\n",
    "    if i==1:\n",
    "        not1=int(input(\"1. yazılı notunuz= \"))\n",
    "    if i==2:\n",
    "        not2=int(input(\"2. yazılı notunuz= \"))\n",
    "    if i==3:\n",
    "        not3=int(input(\"3. yazılı notunuz= \"))\n",
    "ort = (not1 + not2 + not3)/3\n",
    "print(53*\"*\")\n",
    "print(\"****  1. notun {}  2. notun {}  3. notun {} dir. ****\".format(not1,not2,not3))\n",
    "print(53*\"*\")\n",
    "print(\"*************   Not Ortalaması = {:.2f} **************\".format(ort))\n",
    "print(53*\"*\")"
   ]
  },
  {
   "cell_type": "code",
   "execution_count": null,
   "metadata": {},
   "outputs": [],
   "source": [
    "for i in range(1,11):\n",
    "    print(\"--------------\")\n",
    "    print(\"     {}'ler\".format(i))\n",
    "    print(\"--------------\")\n",
    "    for k in range(1,11):\n",
    "        if i*k==100:\n",
    "            print(\"*{} x{} ={} *\".format(i, k, i*k))\n",
    "        elif i*k!=100 and i==10:\n",
    "            print(\"*{} x {} = {} *\".format(i, k, i*k))\n",
    "        elif i*k>=10 and k!=10:\n",
    "            print(\"* {} x {} = {} *\".format(i, k, i*k))\n",
    "        elif i*k>=10 and k==10 and i!=10:\n",
    "            print(\"* {} x{} = {} *\".format(i, k, i*k))\n",
    "        else:\n",
    "            print(\"* {} x {} =  {} *\".format(i, k, i*k))\n",
    "print(\"--------------\")\n",
    "print(\"    S O N     \")\n",
    "print(\"--------------\")"
   ]
  },
  {
   "cell_type": "code",
   "execution_count": null,
   "metadata": {},
   "outputs": [],
   "source": []
  },
  {
   "cell_type": "code",
   "execution_count": null,
   "metadata": {},
   "outputs": [],
   "source": []
  }
 ],
 "metadata": {
  "kernelspec": {
   "display_name": "Python 3",
   "language": "python",
   "name": "python3"
  },
  "language_info": {
   "codemirror_mode": {
    "name": "ipython",
    "version": 3
   },
   "file_extension": ".py",
   "mimetype": "text/x-python",
   "name": "python",
   "nbconvert_exporter": "python",
   "pygments_lexer": "ipython3",
   "version": "3.7.3"
  }
 },
 "nbformat": 4,
 "nbformat_minor": 2
}
